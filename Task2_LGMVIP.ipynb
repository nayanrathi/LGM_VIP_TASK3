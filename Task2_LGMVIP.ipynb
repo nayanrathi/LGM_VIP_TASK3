{
 "cells": [
  {
   "cell_type": "markdown",
   "id": "7be2a31c",
   "metadata": {},
   "source": [
    "# Task Name: Next Word Prediction\n",
    "Name:Nayan Task #2 of LGM VIP INTERNSHIP PROGRAM"
   ]
  },
  {
   "cell_type": "markdown",
   "id": "84602ae8",
   "metadata": {},
   "source": [
    "### Import all Libraries"
   ]
  },
  {
   "cell_type": "code",
   "execution_count": 1,
   "id": "6dd1a51d",
   "metadata": {},
   "outputs": [],
   "source": [
    "import numpy as np\n",
    "from nltk. tokenize import RegexpTokenizer \n",
    "from keras.models import Sequential, load_model \n",
    "from keras.layers import LSTM\n",
    "from keras.layers.core import Dense, Activation \n",
    "from tensorflow.keras.optimizers import RMSprop\n",
    "import matplotlib.pyplot as plt \n",
    "import pickle\n",
    "import heapq"
   ]
  },
  {
   "cell_type": "markdown",
   "id": "ea75a9d9",
   "metadata": {},
   "source": [
    "### Load the data"
   ]
  },
  {
   "cell_type": "code",
   "execution_count": 2,
   "id": "32d21fff",
   "metadata": {},
   "outputs": [
    {
     "name": "stdout",
     "output_type": "stream",
     "text": [
      "corpus length: 581888\n"
     ]
    }
   ],
   "source": [
    "path = r'E:\\LGM_VIP_PROGRAMME\\DataScience\\1661-0.txt'\n",
    "text = open(path, encoding='utf-8').read().lower() \n",
    "print('corpus length:', len(text))"
   ]
  },
  {
   "cell_type": "markdown",
   "id": "5a60f352",
   "metadata": {},
   "source": [
    "### Split the entire dataset into each word"
   ]
  },
  {
   "cell_type": "code",
   "execution_count": 3,
   "id": "3ce96aeb",
   "metadata": {},
   "outputs": [],
   "source": [
    "tokenizer = RegexpTokenizer(r'\\w+')\n",
    "words = tokenizer.tokenize(text)"
   ]
  },
  {
   "cell_type": "markdown",
   "id": "b34ed1cc",
   "metadata": {},
   "source": [
    "### Uniquely sorted word List"
   ]
  },
  {
   "cell_type": "code",
   "execution_count": 5,
   "id": "ca4c031f",
   "metadata": {},
   "outputs": [],
   "source": [
    "unique_words = np.unique(words)\n",
    "unique_word_index = dict((c, i) for i, c in enumerate(unique_words))"
   ]
  },
  {
   "cell_type": "markdown",
   "id": "cd0f948b",
   "metadata": {},
   "source": [
    "### Feature Engineering & One Hot Encoding"
   ]
  },
  {
   "cell_type": "code",
   "execution_count": 7,
   "id": "23c9ce27",
   "metadata": {},
   "outputs": [
    {
     "name": "stdout",
     "output_type": "stream",
     "text": [
      "['project', 'gutenberg', 's', 'the', 'adventures']\n",
      "of\n"
     ]
    }
   ],
   "source": [
    "WORD_LENGTH= 5\n",
    "prev_words = [] \n",
    "next_words = []\n",
    "for i in range(len (words) - WORD_LENGTH):\n",
    "    prev_words.append(words[i:i + WORD_LENGTH])\n",
    "    next_words.append(words[i + WORD_LENGTH])\n",
    "\n",
    "print(prev_words[0]) \n",
    "print(next_words[0])"
   ]
  },
  {
   "cell_type": "markdown",
   "id": "cc24420b",
   "metadata": {},
   "source": [
    "### X: sorting the features\n",
    "### Y: sorting the corresponding label(here, next word)"
   ]
  },
  {
   "cell_type": "code",
   "execution_count": 14,
   "id": "3fc0e5b2",
   "metadata": {},
   "outputs": [],
   "source": [
    "X = np.zeros((len(prev_words), WORD_LENGTH, len(unique_words)), dtype=bool)\n",
    "Y = np.zeros((len (next_words), len(unique_words)), dtype=bool)\n",
    "for i, each_words in enumerate(prev_words):\n",
    "    for j, each_word in enumerate(each_words):\n",
    "        X[i, j, unique_word_index[each_word]] = 1\n",
    "    Y[i, unique_word_index[next_words[i]]] = 1"
   ]
  },
  {
   "cell_type": "markdown",
   "id": "076eafc1",
   "metadata": {},
   "source": [
    "### Single sequence"
   ]
  },
  {
   "cell_type": "code",
   "execution_count": 15,
   "id": "6b257f68",
   "metadata": {},
   "outputs": [
    {
     "name": "stdout",
     "output_type": "stream",
     "text": [
      "[False False False ... False False False]\n"
     ]
    }
   ],
   "source": [
    "print(X[0][0])"
   ]
  },
  {
   "cell_type": "markdown",
   "id": "0322c606",
   "metadata": {},
   "source": [
    "### Building the model"
   ]
  },
  {
   "cell_type": "code",
   "execution_count": 35,
   "id": "05b5abc4",
   "metadata": {},
   "outputs": [],
   "source": [
    "model = Sequential()\n",
    "model.add(LSTM(128, input_shape=(WORD_LENGTH, len(unique_words))))\n",
    "model.add(Dense(len(unique_words)))   \n",
    "model.add(Activation('softmax'))"
   ]
  },
  {
   "cell_type": "markdown",
   "id": "4a63821d",
   "metadata": {},
   "source": [
    "### Training the model"
   ]
  },
  {
   "cell_type": "code",
   "execution_count": 36,
   "id": "ae017245",
   "metadata": {},
   "outputs": [
    {
     "name": "stdout",
     "output_type": "stream",
     "text": [
      "Epoch 1/2\n",
      "811/811 [==============================] - 237s 289ms/step - loss: 6.0076 - accuracy: 0.1074 - val_loss: 7.0611 - val_accuracy: 0.1012\n",
      "Epoch 2/2\n",
      "811/811 [==============================] - 234s 288ms/step - loss: 5.7697 - accuracy: 0.1469 - val_loss: 8.0035 - val_accuracy: 0.0981\n"
     ]
    }
   ],
   "source": [
    "optimizer = RMSprop(lr = 0.01) \n",
    "model.compile(loss = 'categorical_crossentropy', optimizer = optimizer, metrics=['accuracy'])\n",
    "history = model.fit(X, Y, validation_split=0.05, batch_size=128, epochs=2, shuffle=True).history"
   ]
  },
  {
   "cell_type": "markdown",
   "id": "361cacd2",
   "metadata": {},
   "source": [
    "### Load the model"
   ]
  },
  {
   "cell_type": "code",
   "execution_count": 21,
   "id": "836b4884",
   "metadata": {},
   "outputs": [],
   "source": [
    "model.save('keras_next_word_model.h5') \n",
    "pickle.dump(history, open(\"history.p\", \"wb\")) \n",
    "model = load_model('keras_next_word_model.h5') \n",
    "history = pickle.load(open(\"history.p\", \"rb\"))"
   ]
  },
  {
   "cell_type": "markdown",
   "id": "3ae8a610",
   "metadata": {},
   "source": [
    "### Prediction"
   ]
  },
  {
   "cell_type": "code",
   "execution_count": 23,
   "id": "b050ce5a",
   "metadata": {},
   "outputs": [
    {
     "name": "stdout",
     "output_type": "stream",
     "text": [
      "it\n"
     ]
    },
    {
     "data": {
      "text/plain": [
       "array([[[0., 0., 0., ..., 0., 0., 0.],\n",
       "        [0., 0., 0., ..., 0., 0., 0.],\n",
       "        [0., 0., 0., ..., 0., 0., 0.],\n",
       "        [0., 0., 0., ..., 0., 0., 0.],\n",
       "        [0., 0., 0., ..., 0., 0., 0.]]])"
      ]
     },
     "execution_count": 23,
     "metadata": {},
     "output_type": "execute_result"
    }
   ],
   "source": [
    "def prepare_input(text):\n",
    "    x = np.zeros((1, WORD_LENGTH, len(unique_words))) \n",
    "    for t, word in enumerate(text.split()):\n",
    "        print (word)\n",
    "        x[0, t, unique_word_index[word]] = 1\n",
    "        return x \n",
    "prepare_input(\"It is not a lack\".lower())"
   ]
  },
  {
   "cell_type": "markdown",
   "id": "71c7decc",
   "metadata": {},
   "source": [
    "### Choosing the best possible n word"
   ]
  },
  {
   "cell_type": "code",
   "execution_count": 25,
   "id": "00af67d7",
   "metadata": {},
   "outputs": [],
   "source": [
    "def sample(preds, top_n = 3):\n",
    "    preds= np.asarray(preds).astype('float64') \n",
    "    preds= np.log(preds)\n",
    "    exp_preds= np.exp(preds) \n",
    "    preds= exp_preds/np.sum(exp_preds) \n",
    "    return heapq.nlargest(top_n, range(len(preds)), preds.take)"
   ]
  },
  {
   "cell_type": "markdown",
   "id": "5b08f32f",
   "metadata": {},
   "source": [
    "### Function for Prediction"
   ]
  },
  {
   "cell_type": "code",
   "execution_count": 26,
   "id": "1cf5b45e",
   "metadata": {},
   "outputs": [],
   "source": [
    "def predict_completions(text, n=3):\n",
    "    if text == \"\":\n",
    "        return(\"\")\n",
    "    x = prepare_input(text) \n",
    "    preds = model.predict(x, verbose=0)[0]\n",
    "    next_indices = sample(preds, n)\n",
    "    return [unique_words[idx] for idx in next_indices]"
   ]
  },
  {
   "cell_type": "markdown",
   "id": "a1477b73",
   "metadata": {},
   "source": [
    "### Using tokenizer.tokenize for removing punctuations"
   ]
  },
  {
   "cell_type": "code",
   "execution_count": 27,
   "id": "9df9f52f",
   "metadata": {},
   "outputs": [
    {
     "name": "stdout",
     "output_type": "stream",
     "text": [
      "correct sentence:  Light the candle instead of cursuing darkness\n",
      "Sequence:  light the candle instead of\n",
      "light\n",
      "next possible words:  ['to', 'and', 'in', 'the', 'upon']\n"
     ]
    }
   ],
   "source": [
    "q = \"Light the candle instead of cursuing darkness\" \n",
    "print(\"correct sentence: \",q) \n",
    "seq = \" \".join(tokenizer.tokenize(q.lower())[0:5]) \n",
    "print(\"Sequence: \",seq) \n",
    "print(\"next possible words: \", predict_completions(seq, 5))"
   ]
  }
 ],
 "metadata": {
  "kernelspec": {
   "display_name": "Python 3",
   "language": "python",
   "name": "python3"
  },
  "language_info": {
   "codemirror_mode": {
    "name": "ipython",
    "version": 3
   },
   "file_extension": ".py",
   "mimetype": "text/x-python",
   "name": "python",
   "nbconvert_exporter": "python",
   "pygments_lexer": "ipython3",
   "version": "3.8.8"
  }
 },
 "nbformat": 4,
 "nbformat_minor": 5
}
